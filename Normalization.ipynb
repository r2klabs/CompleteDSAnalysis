{
 "cells": [
  {
   "cell_type": "code",
   "execution_count": 50,
   "id": "recovered-cookie",
   "metadata": {},
   "outputs": [],
   "source": [
    "import pandas as pd\n",
    "import numpy as np\n",
    "import seaborn as sns\n",
    "import matplotlib.pyplot as plt\n",
    "%matplotlib inline"
   ]
  },
  {
   "cell_type": "markdown",
   "id": "prostate-lending",
   "metadata": {},
   "source": [
    "## Decimal Scaling"
   ]
  },
  {
   "cell_type": "code",
   "execution_count": 51,
   "id": "square-freeze",
   "metadata": {},
   "outputs": [],
   "source": [
    "df = pd.read_csv('processed_penguins.csv')"
   ]
  },
  {
   "cell_type": "code",
   "execution_count": 52,
   "id": "stupid-imperial",
   "metadata": {},
   "outputs": [],
   "source": [
    "df.body_mass_g = df.body_mass_g/10000\n",
    "df.bill_length_mm = df.bill_length_mm/100\n",
    "df.bill_depth_mm = df.bill_depth_mm/100\n",
    "df.flipper_length_mm = df.flipper_length_mm/1000"
   ]
  },
  {
   "cell_type": "code",
   "execution_count": 53,
   "id": "compound-monroe",
   "metadata": {},
   "outputs": [
    {
     "data": {
      "text/html": [
       "<div>\n",
       "<style scoped>\n",
       "    .dataframe tbody tr th:only-of-type {\n",
       "        vertical-align: middle;\n",
       "    }\n",
       "\n",
       "    .dataframe tbody tr th {\n",
       "        vertical-align: top;\n",
       "    }\n",
       "\n",
       "    .dataframe thead th {\n",
       "        text-align: right;\n",
       "    }\n",
       "</style>\n",
       "<table border=\"1\" class=\"dataframe\">\n",
       "  <thead>\n",
       "    <tr style=\"text-align: right;\">\n",
       "      <th></th>\n",
       "      <th>study_name</th>\n",
       "      <th>species</th>\n",
       "      <th>island</th>\n",
       "      <th>clutch_completion</th>\n",
       "      <th>date_egg</th>\n",
       "      <th>bill_length_mm</th>\n",
       "      <th>bill_depth_mm</th>\n",
       "      <th>flipper_length_mm</th>\n",
       "      <th>body_mass_g</th>\n",
       "      <th>sex</th>\n",
       "      <th>delta_15</th>\n",
       "      <th>delta_13</th>\n",
       "      <th>study_day</th>\n",
       "    </tr>\n",
       "  </thead>\n",
       "  <tbody>\n",
       "    <tr>\n",
       "      <th>0</th>\n",
       "      <td>PAL0708</td>\n",
       "      <td>Adelie</td>\n",
       "      <td>Torgersen</td>\n",
       "      <td>Yes</td>\n",
       "      <td>2007-11-11</td>\n",
       "      <td>0.395</td>\n",
       "      <td>0.174</td>\n",
       "      <td>0.186</td>\n",
       "      <td>0.3800</td>\n",
       "      <td>FEMALE</td>\n",
       "      <td>8.94956</td>\n",
       "      <td>-24.69454</td>\n",
       "      <td>2</td>\n",
       "    </tr>\n",
       "    <tr>\n",
       "      <th>1</th>\n",
       "      <td>PAL0708</td>\n",
       "      <td>Adelie</td>\n",
       "      <td>Torgersen</td>\n",
       "      <td>Yes</td>\n",
       "      <td>2007-11-16</td>\n",
       "      <td>0.403</td>\n",
       "      <td>0.180</td>\n",
       "      <td>0.195</td>\n",
       "      <td>0.3250</td>\n",
       "      <td>FEMALE</td>\n",
       "      <td>8.36821</td>\n",
       "      <td>-25.33302</td>\n",
       "      <td>7</td>\n",
       "    </tr>\n",
       "    <tr>\n",
       "      <th>2</th>\n",
       "      <td>PAL0708</td>\n",
       "      <td>Adelie</td>\n",
       "      <td>Torgersen</td>\n",
       "      <td>Yes</td>\n",
       "      <td>2007-11-16</td>\n",
       "      <td>0.367</td>\n",
       "      <td>0.193</td>\n",
       "      <td>0.193</td>\n",
       "      <td>0.3450</td>\n",
       "      <td>FEMALE</td>\n",
       "      <td>8.76651</td>\n",
       "      <td>-25.32426</td>\n",
       "      <td>7</td>\n",
       "    </tr>\n",
       "    <tr>\n",
       "      <th>3</th>\n",
       "      <td>PAL0708</td>\n",
       "      <td>Adelie</td>\n",
       "      <td>Torgersen</td>\n",
       "      <td>Yes</td>\n",
       "      <td>2007-11-16</td>\n",
       "      <td>0.393</td>\n",
       "      <td>0.206</td>\n",
       "      <td>0.190</td>\n",
       "      <td>0.3650</td>\n",
       "      <td>MALE</td>\n",
       "      <td>8.66496</td>\n",
       "      <td>-25.29805</td>\n",
       "      <td>7</td>\n",
       "    </tr>\n",
       "    <tr>\n",
       "      <th>4</th>\n",
       "      <td>PAL0708</td>\n",
       "      <td>Adelie</td>\n",
       "      <td>Torgersen</td>\n",
       "      <td>No</td>\n",
       "      <td>2007-11-15</td>\n",
       "      <td>0.389</td>\n",
       "      <td>0.178</td>\n",
       "      <td>0.181</td>\n",
       "      <td>0.3625</td>\n",
       "      <td>FEMALE</td>\n",
       "      <td>9.18718</td>\n",
       "      <td>-25.21799</td>\n",
       "      <td>6</td>\n",
       "    </tr>\n",
       "  </tbody>\n",
       "</table>\n",
       "</div>"
      ],
      "text/plain": [
       "  study_name species     island clutch_completion    date_egg  bill_length_mm  \\\n",
       "0    PAL0708  Adelie  Torgersen               Yes  2007-11-11           0.395   \n",
       "1    PAL0708  Adelie  Torgersen               Yes  2007-11-16           0.403   \n",
       "2    PAL0708  Adelie  Torgersen               Yes  2007-11-16           0.367   \n",
       "3    PAL0708  Adelie  Torgersen               Yes  2007-11-16           0.393   \n",
       "4    PAL0708  Adelie  Torgersen                No  2007-11-15           0.389   \n",
       "\n",
       "   bill_depth_mm  flipper_length_mm  body_mass_g     sex  delta_15  delta_13  \\\n",
       "0          0.174              0.186       0.3800  FEMALE   8.94956 -24.69454   \n",
       "1          0.180              0.195       0.3250  FEMALE   8.36821 -25.33302   \n",
       "2          0.193              0.193       0.3450  FEMALE   8.76651 -25.32426   \n",
       "3          0.206              0.190       0.3650    MALE   8.66496 -25.29805   \n",
       "4          0.178              0.181       0.3625  FEMALE   9.18718 -25.21799   \n",
       "\n",
       "   study_day  \n",
       "0          2  \n",
       "1          7  \n",
       "2          7  \n",
       "3          7  \n",
       "4          6  "
      ]
     },
     "execution_count": 53,
     "metadata": {},
     "output_type": "execute_result"
    }
   ],
   "source": [
    "df.head()"
   ]
  },
  {
   "cell_type": "markdown",
   "id": "auburn-hometown",
   "metadata": {},
   "source": [
    "## Min-Max Normalization"
   ]
  },
  {
   "cell_type": "code",
   "execution_count": 54,
   "id": "worth-breach",
   "metadata": {},
   "outputs": [],
   "source": [
    "df2 = pd.read_csv('processed_penguins.csv')"
   ]
  },
  {
   "cell_type": "code",
   "execution_count": 55,
   "id": "accepted-flashing",
   "metadata": {},
   "outputs": [],
   "source": [
    "def minmax_scaler(x):\n",
    "    xmin = np.min(x)\n",
    "    xmax = np.max(x)\n",
    "    output = (x-xmin)/(xmax-xmin)\n",
    "    return output"
   ]
  },
  {
   "cell_type": "code",
   "execution_count": 56,
   "id": "planned-ribbon",
   "metadata": {},
   "outputs": [],
   "source": [
    "df2.body_mass_g = minmax_scaler(df2.body_mass_g)\n",
    "df2.bill_length_mm = minmax_scaler(df2.bill_length_mm)\n",
    "df2.bill_depth_mm = minmax_scaler(df2.bill_depth_mm)\n",
    "df2.flipper_length_mm = minmax_scaler(df2.flipper_length_mm)"
   ]
  },
  {
   "cell_type": "code",
   "execution_count": 65,
   "id": "after-emission",
   "metadata": {},
   "outputs": [
    {
     "data": {
      "text/html": [
       "<div>\n",
       "<style scoped>\n",
       "    .dataframe tbody tr th:only-of-type {\n",
       "        vertical-align: middle;\n",
       "    }\n",
       "\n",
       "    .dataframe tbody tr th {\n",
       "        vertical-align: top;\n",
       "    }\n",
       "\n",
       "    .dataframe thead th {\n",
       "        text-align: right;\n",
       "    }\n",
       "</style>\n",
       "<table border=\"1\" class=\"dataframe\">\n",
       "  <thead>\n",
       "    <tr style=\"text-align: right;\">\n",
       "      <th></th>\n",
       "      <th>study_name</th>\n",
       "      <th>species</th>\n",
       "      <th>island</th>\n",
       "      <th>clutch_completion</th>\n",
       "      <th>date_egg</th>\n",
       "      <th>bill_length_mm</th>\n",
       "      <th>bill_depth_mm</th>\n",
       "      <th>flipper_length_mm</th>\n",
       "      <th>body_mass_g</th>\n",
       "      <th>sex</th>\n",
       "      <th>delta_15</th>\n",
       "      <th>delta_13</th>\n",
       "      <th>study_day</th>\n",
       "    </tr>\n",
       "  </thead>\n",
       "  <tbody>\n",
       "    <tr>\n",
       "      <th>0</th>\n",
       "      <td>PAL0708</td>\n",
       "      <td>Adelie</td>\n",
       "      <td>Torgersen</td>\n",
       "      <td>Yes</td>\n",
       "      <td>2007-11-11</td>\n",
       "      <td>0.269091</td>\n",
       "      <td>0.511905</td>\n",
       "      <td>0.237288</td>\n",
       "      <td>0.305556</td>\n",
       "      <td>FEMALE</td>\n",
       "      <td>8.94956</td>\n",
       "      <td>-24.69454</td>\n",
       "      <td>2</td>\n",
       "    </tr>\n",
       "    <tr>\n",
       "      <th>1</th>\n",
       "      <td>PAL0708</td>\n",
       "      <td>Adelie</td>\n",
       "      <td>Torgersen</td>\n",
       "      <td>Yes</td>\n",
       "      <td>2007-11-16</td>\n",
       "      <td>0.298182</td>\n",
       "      <td>0.583333</td>\n",
       "      <td>0.389831</td>\n",
       "      <td>0.152778</td>\n",
       "      <td>FEMALE</td>\n",
       "      <td>8.36821</td>\n",
       "      <td>-25.33302</td>\n",
       "      <td>7</td>\n",
       "    </tr>\n",
       "    <tr>\n",
       "      <th>2</th>\n",
       "      <td>PAL0708</td>\n",
       "      <td>Adelie</td>\n",
       "      <td>Torgersen</td>\n",
       "      <td>Yes</td>\n",
       "      <td>2007-11-16</td>\n",
       "      <td>0.167273</td>\n",
       "      <td>0.738095</td>\n",
       "      <td>0.355932</td>\n",
       "      <td>0.208333</td>\n",
       "      <td>FEMALE</td>\n",
       "      <td>8.76651</td>\n",
       "      <td>-25.32426</td>\n",
       "      <td>7</td>\n",
       "    </tr>\n",
       "    <tr>\n",
       "      <th>3</th>\n",
       "      <td>PAL0708</td>\n",
       "      <td>Adelie</td>\n",
       "      <td>Torgersen</td>\n",
       "      <td>Yes</td>\n",
       "      <td>2007-11-16</td>\n",
       "      <td>0.261818</td>\n",
       "      <td>0.892857</td>\n",
       "      <td>0.305085</td>\n",
       "      <td>0.263889</td>\n",
       "      <td>MALE</td>\n",
       "      <td>8.66496</td>\n",
       "      <td>-25.29805</td>\n",
       "      <td>7</td>\n",
       "    </tr>\n",
       "    <tr>\n",
       "      <th>4</th>\n",
       "      <td>PAL0708</td>\n",
       "      <td>Adelie</td>\n",
       "      <td>Torgersen</td>\n",
       "      <td>No</td>\n",
       "      <td>2007-11-15</td>\n",
       "      <td>0.247273</td>\n",
       "      <td>0.559524</td>\n",
       "      <td>0.152542</td>\n",
       "      <td>0.256944</td>\n",
       "      <td>FEMALE</td>\n",
       "      <td>9.18718</td>\n",
       "      <td>-25.21799</td>\n",
       "      <td>6</td>\n",
       "    </tr>\n",
       "  </tbody>\n",
       "</table>\n",
       "</div>"
      ],
      "text/plain": [
       "  study_name species     island clutch_completion    date_egg  bill_length_mm  \\\n",
       "0    PAL0708  Adelie  Torgersen               Yes  2007-11-11        0.269091   \n",
       "1    PAL0708  Adelie  Torgersen               Yes  2007-11-16        0.298182   \n",
       "2    PAL0708  Adelie  Torgersen               Yes  2007-11-16        0.167273   \n",
       "3    PAL0708  Adelie  Torgersen               Yes  2007-11-16        0.261818   \n",
       "4    PAL0708  Adelie  Torgersen                No  2007-11-15        0.247273   \n",
       "\n",
       "   bill_depth_mm  flipper_length_mm  body_mass_g     sex  delta_15  delta_13  \\\n",
       "0       0.511905           0.237288     0.305556  FEMALE   8.94956 -24.69454   \n",
       "1       0.583333           0.389831     0.152778  FEMALE   8.36821 -25.33302   \n",
       "2       0.738095           0.355932     0.208333  FEMALE   8.76651 -25.32426   \n",
       "3       0.892857           0.305085     0.263889    MALE   8.66496 -25.29805   \n",
       "4       0.559524           0.152542     0.256944  FEMALE   9.18718 -25.21799   \n",
       "\n",
       "   study_day  \n",
       "0          2  \n",
       "1          7  \n",
       "2          7  \n",
       "3          7  \n",
       "4          6  "
      ]
     },
     "execution_count": 65,
     "metadata": {},
     "output_type": "execute_result"
    }
   ],
   "source": [
    "df2.head()"
   ]
  },
  {
   "cell_type": "code",
   "execution_count": 27,
   "id": "exterior-breeding",
   "metadata": {},
   "outputs": [
    {
     "data": {
      "text/plain": [
       "0.0"
      ]
     },
     "execution_count": 27,
     "metadata": {},
     "output_type": "execute_result"
    }
   ],
   "source": [
    "df2.body_mass_g.min()"
   ]
  },
  {
   "cell_type": "code",
   "execution_count": 28,
   "id": "acoustic-cancellation",
   "metadata": {},
   "outputs": [
    {
     "data": {
      "text/plain": [
       "0.3055555555555556"
      ]
     },
     "execution_count": 28,
     "metadata": {},
     "output_type": "execute_result"
    }
   ],
   "source": [
    "(3800-2700)/(6300-2700)"
   ]
  },
  {
   "cell_type": "code",
   "execution_count": 61,
   "id": "canadian-benjamin",
   "metadata": {},
   "outputs": [],
   "source": [
    "df3 = pd.read_csv(\"processed_penguins.csv\")"
   ]
  },
  {
   "cell_type": "code",
   "execution_count": 62,
   "id": "protecting-argentina",
   "metadata": {},
   "outputs": [],
   "source": [
    "def std_scaler(x):\n",
    "    mean = np.mean(x)\n",
    "    std = np.std(x)\n",
    "    output = (x-mean)/std\n",
    "    return output"
   ]
  },
  {
   "cell_type": "code",
   "execution_count": 63,
   "id": "subtle-invention",
   "metadata": {},
   "outputs": [],
   "source": [
    "df3.body_mass_g = std_scaler(df3.body_mass_g)\n",
    "df3.bill_length_mm = std_scaler(df3.bill_length_mm)\n",
    "df3.bill_depth_mm = std_scaler(df3.bill_depth_mm)\n",
    "df3.flipper_length_mm = std_scaler(df3.flipper_length_mm)"
   ]
  },
  {
   "cell_type": "code",
   "execution_count": 64,
   "id": "alternative-heather",
   "metadata": {},
   "outputs": [
    {
     "data": {
      "text/html": [
       "<div>\n",
       "<style scoped>\n",
       "    .dataframe tbody tr th:only-of-type {\n",
       "        vertical-align: middle;\n",
       "    }\n",
       "\n",
       "    .dataframe tbody tr th {\n",
       "        vertical-align: top;\n",
       "    }\n",
       "\n",
       "    .dataframe thead th {\n",
       "        text-align: right;\n",
       "    }\n",
       "</style>\n",
       "<table border=\"1\" class=\"dataframe\">\n",
       "  <thead>\n",
       "    <tr style=\"text-align: right;\">\n",
       "      <th></th>\n",
       "      <th>study_name</th>\n",
       "      <th>species</th>\n",
       "      <th>island</th>\n",
       "      <th>clutch_completion</th>\n",
       "      <th>date_egg</th>\n",
       "      <th>bill_length_mm</th>\n",
       "      <th>bill_depth_mm</th>\n",
       "      <th>flipper_length_mm</th>\n",
       "      <th>body_mass_g</th>\n",
       "      <th>sex</th>\n",
       "      <th>delta_15</th>\n",
       "      <th>delta_13</th>\n",
       "      <th>study_day</th>\n",
       "    </tr>\n",
       "  </thead>\n",
       "  <tbody>\n",
       "    <tr>\n",
       "      <th>0</th>\n",
       "      <td>PAL0708</td>\n",
       "      <td>Adelie</td>\n",
       "      <td>Torgersen</td>\n",
       "      <td>Yes</td>\n",
       "      <td>2007-11-11</td>\n",
       "      <td>-0.832100</td>\n",
       "      <td>0.138739</td>\n",
       "      <td>-1.091764</td>\n",
       "      <td>-0.512317</td>\n",
       "      <td>FEMALE</td>\n",
       "      <td>8.94956</td>\n",
       "      <td>-24.69454</td>\n",
       "      <td>2</td>\n",
       "    </tr>\n",
       "    <tr>\n",
       "      <th>1</th>\n",
       "      <td>PAL0708</td>\n",
       "      <td>Adelie</td>\n",
       "      <td>Torgersen</td>\n",
       "      <td>Yes</td>\n",
       "      <td>2007-11-16</td>\n",
       "      <td>-0.685906</td>\n",
       "      <td>0.444184</td>\n",
       "      <td>-0.446007</td>\n",
       "      <td>-1.192986</td>\n",
       "      <td>FEMALE</td>\n",
       "      <td>8.36821</td>\n",
       "      <td>-25.33302</td>\n",
       "      <td>7</td>\n",
       "    </tr>\n",
       "    <tr>\n",
       "      <th>2</th>\n",
       "      <td>PAL0708</td>\n",
       "      <td>Adelie</td>\n",
       "      <td>Torgersen</td>\n",
       "      <td>Yes</td>\n",
       "      <td>2007-11-16</td>\n",
       "      <td>-1.343780</td>\n",
       "      <td>1.105981</td>\n",
       "      <td>-0.589508</td>\n",
       "      <td>-0.945470</td>\n",
       "      <td>FEMALE</td>\n",
       "      <td>8.76651</td>\n",
       "      <td>-25.32426</td>\n",
       "      <td>7</td>\n",
       "    </tr>\n",
       "    <tr>\n",
       "      <th>3</th>\n",
       "      <td>PAL0708</td>\n",
       "      <td>Adelie</td>\n",
       "      <td>Torgersen</td>\n",
       "      <td>Yes</td>\n",
       "      <td>2007-11-16</td>\n",
       "      <td>-0.868649</td>\n",
       "      <td>1.767779</td>\n",
       "      <td>-0.804761</td>\n",
       "      <td>-0.697954</td>\n",
       "      <td>MALE</td>\n",
       "      <td>8.66496</td>\n",
       "      <td>-25.29805</td>\n",
       "      <td>7</td>\n",
       "    </tr>\n",
       "    <tr>\n",
       "      <th>4</th>\n",
       "      <td>PAL0708</td>\n",
       "      <td>Adelie</td>\n",
       "      <td>Torgersen</td>\n",
       "      <td>No</td>\n",
       "      <td>2007-11-15</td>\n",
       "      <td>-0.941746</td>\n",
       "      <td>0.342369</td>\n",
       "      <td>-1.450518</td>\n",
       "      <td>-0.728893</td>\n",
       "      <td>FEMALE</td>\n",
       "      <td>9.18718</td>\n",
       "      <td>-25.21799</td>\n",
       "      <td>6</td>\n",
       "    </tr>\n",
       "  </tbody>\n",
       "</table>\n",
       "</div>"
      ],
      "text/plain": [
       "  study_name species     island clutch_completion    date_egg  bill_length_mm  \\\n",
       "0    PAL0708  Adelie  Torgersen               Yes  2007-11-11       -0.832100   \n",
       "1    PAL0708  Adelie  Torgersen               Yes  2007-11-16       -0.685906   \n",
       "2    PAL0708  Adelie  Torgersen               Yes  2007-11-16       -1.343780   \n",
       "3    PAL0708  Adelie  Torgersen               Yes  2007-11-16       -0.868649   \n",
       "4    PAL0708  Adelie  Torgersen                No  2007-11-15       -0.941746   \n",
       "\n",
       "   bill_depth_mm  flipper_length_mm  body_mass_g     sex  delta_15  delta_13  \\\n",
       "0       0.138739          -1.091764    -0.512317  FEMALE   8.94956 -24.69454   \n",
       "1       0.444184          -0.446007    -1.192986  FEMALE   8.36821 -25.33302   \n",
       "2       1.105981          -0.589508    -0.945470  FEMALE   8.76651 -25.32426   \n",
       "3       1.767779          -0.804761    -0.697954    MALE   8.66496 -25.29805   \n",
       "4       0.342369          -1.450518    -0.728893  FEMALE   9.18718 -25.21799   \n",
       "\n",
       "   study_day  \n",
       "0          2  \n",
       "1          7  \n",
       "2          7  \n",
       "3          7  \n",
       "4          6  "
      ]
     },
     "execution_count": 64,
     "metadata": {},
     "output_type": "execute_result"
    }
   ],
   "source": [
    "df3.head()"
   ]
  },
  {
   "cell_type": "code",
   "execution_count": 66,
   "id": "opening-operations",
   "metadata": {},
   "outputs": [],
   "source": [
    "df4 = pd.read_csv(\"processed_penguins.csv\")"
   ]
  },
  {
   "cell_type": "code",
   "execution_count": 67,
   "id": "peripheral-commons",
   "metadata": {},
   "outputs": [],
   "source": [
    "import sklearn.preprocessing as pp"
   ]
  },
  {
   "cell_type": "code",
   "execution_count": 68,
   "id": "inappropriate-pickup",
   "metadata": {},
   "outputs": [],
   "source": [
    "body_mass = np.array(df4.body_mass_g).reshape(-1,1)"
   ]
  },
  {
   "cell_type": "code",
   "execution_count": 70,
   "id": "diverse-wrist",
   "metadata": {},
   "outputs": [],
   "source": [
    "#body_mass"
   ]
  },
  {
   "cell_type": "code",
   "execution_count": 74,
   "id": "gorgeous-offering",
   "metadata": {},
   "outputs": [],
   "source": [
    "X = np.array(df4[['bill_length_mm','bill_depth_mm','flipper_length_mm','body_mass_g']])"
   ]
  },
  {
   "cell_type": "code",
   "execution_count": 75,
   "id": "random-falls",
   "metadata": {},
   "outputs": [
    {
     "data": {
      "text/plain": [
       "array([[  39.5,   17.4,  186. , 3800. ],\n",
       "       [  40.3,   18. ,  195. , 3250. ],\n",
       "       [  36.7,   19.3,  193. , 3450. ],\n",
       "       ...,\n",
       "       [  50.4,   15.7,  222. , 5750. ],\n",
       "       [  45.2,   14.8,  212. , 5200. ],\n",
       "       [  49.9,   16.1,  213. , 5400. ]])"
      ]
     },
     "execution_count": 75,
     "metadata": {},
     "output_type": "execute_result"
    }
   ],
   "source": [
    "X"
   ]
  },
  {
   "cell_type": "code",
   "execution_count": 76,
   "id": "shaped-teach",
   "metadata": {},
   "outputs": [],
   "source": [
    "scaler = pp.StandardScaler().fit(X)"
   ]
  },
  {
   "cell_type": "code",
   "execution_count": 77,
   "id": "intermediate-grenada",
   "metadata": {},
   "outputs": [],
   "source": [
    "scaled = scaler.transform(X)"
   ]
  },
  {
   "cell_type": "code",
   "execution_count": 88,
   "id": "junior-namibia",
   "metadata": {},
   "outputs": [
    {
     "ename": "AttributeError",
     "evalue": "'StandardScaler' object has no attribute 'std_'",
     "output_type": "error",
     "traceback": [
      "\u001b[1;31m---------------------------------------------------------------------------\u001b[0m",
      "\u001b[1;31mAttributeError\u001b[0m                            Traceback (most recent call last)",
      "\u001b[1;32m<ipython-input-88-4292670a45b3>\u001b[0m in \u001b[0;36m<module>\u001b[1;34m\u001b[0m\n\u001b[1;32m----> 1\u001b[1;33m \u001b[0mscaler\u001b[0m\u001b[1;33m.\u001b[0m\u001b[0mstd_\u001b[0m\u001b[1;33m\u001b[0m\u001b[1;33m\u001b[0m\u001b[0m\n\u001b[0m",
      "\u001b[1;31mAttributeError\u001b[0m: 'StandardScaler' object has no attribute 'std_'"
     ]
    }
   ],
   "source": [
    "scaler.std_"
   ]
  },
  {
   "cell_type": "code",
   "execution_count": 79,
   "id": "divine-yeast",
   "metadata": {},
   "outputs": [],
   "source": [
    "new_df = pd.DataFrame(scaled)"
   ]
  },
  {
   "cell_type": "code",
   "execution_count": 80,
   "id": "middle-airplane",
   "metadata": {},
   "outputs": [
    {
     "data": {
      "text/html": [
       "<div>\n",
       "<style scoped>\n",
       "    .dataframe tbody tr th:only-of-type {\n",
       "        vertical-align: middle;\n",
       "    }\n",
       "\n",
       "    .dataframe tbody tr th {\n",
       "        vertical-align: top;\n",
       "    }\n",
       "\n",
       "    .dataframe thead th {\n",
       "        text-align: right;\n",
       "    }\n",
       "</style>\n",
       "<table border=\"1\" class=\"dataframe\">\n",
       "  <thead>\n",
       "    <tr style=\"text-align: right;\">\n",
       "      <th></th>\n",
       "      <th>0</th>\n",
       "      <th>1</th>\n",
       "      <th>2</th>\n",
       "      <th>3</th>\n",
       "    </tr>\n",
       "  </thead>\n",
       "  <tbody>\n",
       "    <tr>\n",
       "      <th>0</th>\n",
       "      <td>-0.832100</td>\n",
       "      <td>0.138739</td>\n",
       "      <td>-1.091764</td>\n",
       "      <td>-0.512317</td>\n",
       "    </tr>\n",
       "    <tr>\n",
       "      <th>1</th>\n",
       "      <td>-0.685906</td>\n",
       "      <td>0.444184</td>\n",
       "      <td>-0.446007</td>\n",
       "      <td>-1.192986</td>\n",
       "    </tr>\n",
       "    <tr>\n",
       "      <th>2</th>\n",
       "      <td>-1.343780</td>\n",
       "      <td>1.105981</td>\n",
       "      <td>-0.589508</td>\n",
       "      <td>-0.945470</td>\n",
       "    </tr>\n",
       "    <tr>\n",
       "      <th>3</th>\n",
       "      <td>-0.868649</td>\n",
       "      <td>1.767779</td>\n",
       "      <td>-0.804761</td>\n",
       "      <td>-0.697954</td>\n",
       "    </tr>\n",
       "    <tr>\n",
       "      <th>4</th>\n",
       "      <td>-0.941746</td>\n",
       "      <td>0.342369</td>\n",
       "      <td>-1.450518</td>\n",
       "      <td>-0.728893</td>\n",
       "    </tr>\n",
       "    <tr>\n",
       "      <th>...</th>\n",
       "      <td>...</td>\n",
       "      <td>...</td>\n",
       "      <td>...</td>\n",
       "      <td>...</td>\n",
       "    </tr>\n",
       "    <tr>\n",
       "      <th>319</th>\n",
       "      <td>0.575020</td>\n",
       "      <td>-1.744839</td>\n",
       "      <td>0.917259</td>\n",
       "      <td>0.879962</td>\n",
       "    </tr>\n",
       "    <tr>\n",
       "      <th>320</th>\n",
       "      <td>0.501922</td>\n",
       "      <td>-1.439394</td>\n",
       "      <td>0.989010</td>\n",
       "      <td>0.787144</td>\n",
       "    </tr>\n",
       "    <tr>\n",
       "      <th>321</th>\n",
       "      <td>1.159797</td>\n",
       "      <td>-0.726689</td>\n",
       "      <td>1.491265</td>\n",
       "      <td>1.900967</td>\n",
       "    </tr>\n",
       "    <tr>\n",
       "      <th>322</th>\n",
       "      <td>0.209534</td>\n",
       "      <td>-1.184856</td>\n",
       "      <td>0.773757</td>\n",
       "      <td>1.220297</td>\n",
       "    </tr>\n",
       "    <tr>\n",
       "      <th>323</th>\n",
       "      <td>1.068425</td>\n",
       "      <td>-0.523059</td>\n",
       "      <td>0.845508</td>\n",
       "      <td>1.467814</td>\n",
       "    </tr>\n",
       "  </tbody>\n",
       "</table>\n",
       "<p>324 rows × 4 columns</p>\n",
       "</div>"
      ],
      "text/plain": [
       "            0         1         2         3\n",
       "0   -0.832100  0.138739 -1.091764 -0.512317\n",
       "1   -0.685906  0.444184 -0.446007 -1.192986\n",
       "2   -1.343780  1.105981 -0.589508 -0.945470\n",
       "3   -0.868649  1.767779 -0.804761 -0.697954\n",
       "4   -0.941746  0.342369 -1.450518 -0.728893\n",
       "..        ...       ...       ...       ...\n",
       "319  0.575020 -1.744839  0.917259  0.879962\n",
       "320  0.501922 -1.439394  0.989010  0.787144\n",
       "321  1.159797 -0.726689  1.491265  1.900967\n",
       "322  0.209534 -1.184856  0.773757  1.220297\n",
       "323  1.068425 -0.523059  0.845508  1.467814\n",
       "\n",
       "[324 rows x 4 columns]"
      ]
     },
     "execution_count": 80,
     "metadata": {},
     "output_type": "execute_result"
    }
   ],
   "source": [
    "new_df"
   ]
  },
  {
   "cell_type": "code",
   "execution_count": 81,
   "id": "designed-lancaster",
   "metadata": {},
   "outputs": [],
   "source": [
    "min_max_scaler = pp.MinMaxScaler()"
   ]
  },
  {
   "cell_type": "code",
   "execution_count": null,
   "id": "instant-adjustment",
   "metadata": {},
   "outputs": [],
   "source": []
  },
  {
   "cell_type": "code",
   "execution_count": 82,
   "id": "according-stretch",
   "metadata": {},
   "outputs": [],
   "source": [
    "min_max_scaled = min_max_scaler.fit_transform(X)"
   ]
  },
  {
   "cell_type": "code",
   "execution_count": 83,
   "id": "ancient-postage",
   "metadata": {},
   "outputs": [
    {
     "data": {
      "text/plain": [
       "array([0.03636364, 0.11904762, 0.01694915, 0.00027778])"
      ]
     },
     "execution_count": 83,
     "metadata": {},
     "output_type": "execute_result"
    }
   ],
   "source": [
    "min_max_scaler.scale_"
   ]
  },
  {
   "cell_type": "code",
   "execution_count": 89,
   "id": "native-mouse",
   "metadata": {},
   "outputs": [
    {
     "data": {
      "text/plain": [
       "array([[0.26909091, 0.51190476, 0.23728814, 0.30555556],\n",
       "       [0.29818182, 0.58333333, 0.38983051, 0.15277778],\n",
       "       [0.16727273, 0.73809524, 0.3559322 , 0.20833333],\n",
       "       ...,\n",
       "       [0.66545455, 0.30952381, 0.84745763, 0.84722222],\n",
       "       [0.47636364, 0.20238095, 0.6779661 , 0.69444444],\n",
       "       [0.64727273, 0.35714286, 0.69491525, 0.75      ]])"
      ]
     },
     "execution_count": 89,
     "metadata": {},
     "output_type": "execute_result"
    }
   ],
   "source": [
    "min_max_scaled"
   ]
  },
  {
   "cell_type": "code",
   "execution_count": null,
   "id": "engaged-danish",
   "metadata": {},
   "outputs": [],
   "source": []
  }
 ],
 "metadata": {
  "kernelspec": {
   "display_name": "Python 3",
   "language": "python",
   "name": "python3"
  },
  "language_info": {
   "codemirror_mode": {
    "name": "ipython",
    "version": 3
   },
   "file_extension": ".py",
   "mimetype": "text/x-python",
   "name": "python",
   "nbconvert_exporter": "python",
   "pygments_lexer": "ipython3",
   "version": "3.8.6"
  }
 },
 "nbformat": 4,
 "nbformat_minor": 5
}
